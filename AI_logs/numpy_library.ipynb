{
 "cells": [
  {
   "cell_type": "markdown",
   "id": "aquatic-huntington",
   "metadata": {},
   "source": [
    "# Numpy\n",
    "![Scalar Vector Matrix Tensor](https://res.cloudinary.com/practicaldev/image/fetch/s--oTgfo1EL--/c_limit%2Cf_auto%2Cfl_progressive%2Cq_auto%2Cw_880/https://raw.githubusercontent.com/adhiraiyan/DeepLearningWithTF2.0/master/notebooks/figures/fig0201a.png)\n",
    "\n",
    "credit: https://res.cloudinary.com/"
   ]
  },
  {
   "cell_type": "code",
   "execution_count": null,
   "id": "previous-entrance",
   "metadata": {},
   "outputs": [],
   "source": [
    "import numpy as np"
   ]
  },
  {
   "cell_type": "code",
   "execution_count": null,
   "id": "southern-collins",
   "metadata": {},
   "outputs": [],
   "source": [
    "numbers_list = [1, 2, 3, 4, 5, 6]\n",
    "print(numbers_list)"
   ]
  },
  {
   "cell_type": "code",
   "execution_count": null,
   "id": "rubber-heart",
   "metadata": {},
   "outputs": [],
   "source": [
    "numbers_tuple = tuple([1, 2, 3, 4, 5, 6])\n",
    "print(numbers_tuple)"
   ]
  },
  {
   "cell_type": "code",
   "execution_count": null,
   "id": "brave-invite",
   "metadata": {},
   "outputs": [],
   "source": [
    "numbers_arr = np.array(1, 2, 3, 4, 5, 6)"
   ]
  },
  {
   "cell_type": "code",
   "execution_count": null,
   "id": "sought-window",
   "metadata": {},
   "outputs": [],
   "source": [
    "help(np.array)"
   ]
  },
  {
   "cell_type": "code",
   "execution_count": null,
   "id": "wooden-david",
   "metadata": {},
   "outputs": [],
   "source": [
    "numbers_arr = np.array([1, 2, 3, 4, 5, 6], np.int)\n",
    "print(numbers_arr)"
   ]
  },
  {
   "cell_type": "code",
   "execution_count": null,
   "id": "norman-hypothesis",
   "metadata": {},
   "outputs": [],
   "source": [
    "print(type(numbers_arr))\n",
    "print(type(numbers_arr[0]))"
   ]
  },
  {
   "cell_type": "code",
   "execution_count": null,
   "id": "nominated-manitoba",
   "metadata": {},
   "outputs": [],
   "source": [
    "print(f\"Before: {numbers_list[0]}\")\n",
    "numbers_list[0] = numbers_list[0] * 2\n",
    "print(f\"After: {numbers_list[0]}\")"
   ]
  },
  {
   "cell_type": "code",
   "execution_count": null,
   "id": "heard-fountain",
   "metadata": {},
   "outputs": [],
   "source": [
    "numbers_arr.shape"
   ]
  },
  {
   "cell_type": "code",
   "execution_count": null,
   "id": "forbidden-norway",
   "metadata": {},
   "outputs": [],
   "source": [
    "numbers_arr = numbers_arr.reshape(1, 6)"
   ]
  },
  {
   "cell_type": "markdown",
   "id": "controversial-grant",
   "metadata": {},
   "source": [
    "### Most Used Methods (En Çok Kullanılan Metotlar)"
   ]
  },
  {
   "cell_type": "code",
   "execution_count": null,
   "id": "russian-message",
   "metadata": {},
   "outputs": [],
   "source": [
    "np.sin(numbers_arr)"
   ]
  },
  {
   "cell_type": "code",
   "execution_count": null,
   "id": "tracked-patient",
   "metadata": {},
   "outputs": [],
   "source": [
    "np.cos(numbers_arr)"
   ]
  },
  {
   "cell_type": "code",
   "execution_count": null,
   "id": "bearing-demographic",
   "metadata": {},
   "outputs": [],
   "source": [
    "np.log(numbers_arr)"
   ]
  },
  {
   "cell_type": "code",
   "execution_count": null,
   "id": "representative-footage",
   "metadata": {},
   "outputs": [],
   "source": [
    "np.exp(numbers_arr)"
   ]
  },
  {
   "cell_type": "code",
   "execution_count": null,
   "id": "ranging-wallet",
   "metadata": {},
   "outputs": [],
   "source": [
    "np.max(numbers_arr)"
   ]
  },
  {
   "cell_type": "code",
   "execution_count": null,
   "id": "northern-politics",
   "metadata": {},
   "outputs": [],
   "source": [
    "np.argmax(numbers_arr)"
   ]
  },
  {
   "cell_type": "code",
   "execution_count": null,
   "id": "classical-quebec",
   "metadata": {},
   "outputs": [],
   "source": [
    "np.min(numbers_arr)"
   ]
  },
  {
   "cell_type": "code",
   "execution_count": null,
   "id": "vertical-marsh",
   "metadata": {},
   "outputs": [],
   "source": [
    "np.argmin(numbers_arr)"
   ]
  },
  {
   "cell_type": "code",
   "execution_count": null,
   "id": "common-brazil",
   "metadata": {},
   "outputs": [],
   "source": [
    "np.mean(numbers_arr)"
   ]
  },
  {
   "cell_type": "code",
   "execution_count": null,
   "id": "comic-arbor",
   "metadata": {},
   "outputs": [],
   "source": [
    "np.std(numbers_arr)"
   ]
  },
  {
   "cell_type": "code",
   "execution_count": null,
   "id": "transparent-child",
   "metadata": {},
   "outputs": [],
   "source": [
    "numbers_arr = numbers_arr.reshape(2, 3)\n",
    "print(numbers_arr)"
   ]
  },
  {
   "cell_type": "code",
   "execution_count": null,
   "id": "needed-riverside",
   "metadata": {},
   "outputs": [],
   "source": [
    "# axis=1 => Row\n",
    "# axis=0 => Column\n",
    "np.sum(numbers_arr, axis=0)"
   ]
  },
  {
   "cell_type": "code",
   "execution_count": null,
   "id": "manual-airport",
   "metadata": {},
   "outputs": [],
   "source": [
    "zeros = np.zeros((3, 3))\n",
    "print(zeros)"
   ]
  },
  {
   "cell_type": "code",
   "execution_count": null,
   "id": "orange-playback",
   "metadata": {},
   "outputs": [],
   "source": [
    "ones = np.ones((3, 3))\n",
    "print(ones)"
   ]
  },
  {
   "cell_type": "code",
   "execution_count": null,
   "id": "delayed-cookie",
   "metadata": {},
   "outputs": [],
   "source": [
    "ones - 1"
   ]
  },
  {
   "cell_type": "code",
   "execution_count": null,
   "id": "digital-melissa",
   "metadata": {},
   "outputs": [],
   "source": [
    "zeros + 1"
   ]
  },
  {
   "cell_type": "code",
   "execution_count": null,
   "id": "stopped-season",
   "metadata": {},
   "outputs": [],
   "source": [
    "# Identity matrix\n",
    "# Birim matris\n",
    "np.eye(3)"
   ]
  },
  {
   "cell_type": "code",
   "execution_count": null,
   "id": "medium-football",
   "metadata": {},
   "outputs": [],
   "source": [
    "numbers_arr"
   ]
  },
  {
   "cell_type": "code",
   "execution_count": null,
   "id": "defined-voltage",
   "metadata": {},
   "outputs": [],
   "source": [
    "np.arange(6)"
   ]
  },
  {
   "cell_type": "code",
   "execution_count": null,
   "id": "distant-kuwait",
   "metadata": {},
   "outputs": [],
   "source": [
    "np.random.random((3, 3))"
   ]
  },
  {
   "cell_type": "markdown",
   "id": "together-sally",
   "metadata": {},
   "source": [
    "### Slicing & Indexing (Dilimleme && İndisleme)"
   ]
  },
  {
   "cell_type": "code",
   "execution_count": null,
   "id": "referenced-hundred",
   "metadata": {},
   "outputs": [],
   "source": [
    "numbers_arr"
   ]
  },
  {
   "cell_type": "code",
   "execution_count": null,
   "id": "black-pressing",
   "metadata": {},
   "outputs": [],
   "source": [
    "numbers_arr[0]"
   ]
  },
  {
   "cell_type": "code",
   "execution_count": null,
   "id": "delayed-resource",
   "metadata": {},
   "outputs": [],
   "source": [
    "# Ellipsis or :\n",
    "numbers_arr[:, 0]"
   ]
  },
  {
   "cell_type": "code",
   "execution_count": null,
   "id": "split-payday",
   "metadata": {},
   "outputs": [],
   "source": [
    "numbers_arr[:, 0: 3: 2]"
   ]
  },
  {
   "cell_type": "code",
   "execution_count": null,
   "id": "polar-annual",
   "metadata": {},
   "outputs": [],
   "source": [
    "print(numbers_arr[1, 0])\n",
    "print(numbers_arr[0, 1])"
   ]
  },
  {
   "cell_type": "code",
   "execution_count": null,
   "id": "statistical-nebraska",
   "metadata": {},
   "outputs": [],
   "source": [
    "numbers_arr[numbers_arr > 2]"
   ]
  },
  {
   "cell_type": "code",
   "execution_count": null,
   "id": "inside-chest",
   "metadata": {},
   "outputs": [],
   "source": [
    "# 3 index:\n",
    "# 4 index:\n",
    "# 5 index:\n",
    "# 6 index: \n",
    "np.where(numbers_arr > 2)"
   ]
  },
  {
   "cell_type": "code",
   "execution_count": null,
   "id": "alternate-producer",
   "metadata": {},
   "outputs": [],
   "source": [
    "numbers_arr[idx]"
   ]
  },
  {
   "cell_type": "code",
   "execution_count": null,
   "id": "tamil-solomon",
   "metadata": {},
   "outputs": [],
   "source": [
    "eye = np.eye(3)\n",
    "eye = eye + 2\n",
    "print(eye)"
   ]
  },
  {
   "cell_type": "code",
   "execution_count": null,
   "id": "extensive-calvin",
   "metadata": {},
   "outputs": [],
   "source": [
    "np.linalg.det(eye)"
   ]
  },
  {
   "cell_type": "markdown",
   "id": "tough-kansas",
   "metadata": {},
   "source": [
    "### Dot Product (İç Çarpım)\n",
    "![Dot product](https://algebra1course.files.wordpress.com/2013/02/slide10.jpg)\n",
    "\n",
    "credit: https://algebra1course.files.wordpress.com/"
   ]
  },
  {
   "cell_type": "code",
   "execution_count": null,
   "id": "illegal-defense",
   "metadata": {},
   "outputs": [],
   "source": [
    "arr_a = np.random.randint(1, 100, size=(5, 7))\n",
    "arr_a"
   ]
  },
  {
   "cell_type": "code",
   "execution_count": null,
   "id": "broke-pride",
   "metadata": {},
   "outputs": [],
   "source": [
    "arr_b = np.random.randint(1, 100, size=(5, 7))\n",
    "arr_b"
   ]
  },
  {
   "cell_type": "code",
   "execution_count": null,
   "id": "sonic-importance",
   "metadata": {},
   "outputs": [],
   "source": [
    "arr_a * arr_b"
   ]
  },
  {
   "cell_type": "code",
   "execution_count": null,
   "id": "desirable-malta",
   "metadata": {},
   "outputs": [],
   "source": [
    "(arr_a * arr_b).shape"
   ]
  },
  {
   "cell_type": "code",
   "execution_count": null,
   "id": "parliamentary-statistics",
   "metadata": {},
   "outputs": [],
   "source": [
    "arr_axb = np.dot(arr_a, arr_b)"
   ]
  }
 ],
 "metadata": {
  "kernelspec": {
   "display_name": "Python 3",
   "language": "python",
   "name": "python3"
  },
  "language_info": {
   "codemirror_mode": {
    "name": "ipython",
    "version": 3
   },
   "file_extension": ".py",
   "mimetype": "text/x-python",
   "name": "python",
   "nbconvert_exporter": "python",
   "pygments_lexer": "ipython3",
   "version": "3.8.6"
  }
 },
 "nbformat": 4,
 "nbformat_minor": 5
}
